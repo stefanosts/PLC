{
 "cells": [
  {
   "cell_type": "code",
   "execution_count": 73,
   "metadata": {
    "collapsed": false
   },
   "outputs": [],
   "source": [
    "import numpy as np, pandas as pd\n",
    "from os import listdir\n",
    "from os.path import join"
   ]
  },
  {
   "cell_type": "code",
   "execution_count": 74,
   "metadata": {
    "collapsed": true
   },
   "outputs": [],
   "source": [
    "_Raw = r\"C:\\Users\\user\\Dropbox\\BIO2CHP Team\\Data logging\\Playing\\raw_files\"\n",
    "_Clean = r\"C:\\Users\\user\\Dropbox\\BIO2CHP Team\\Data logging\\Playing\\output_files\""
   ]
  },
  {
   "cell_type": "code",
   "execution_count": 77,
   "metadata": {
    "collapsed": true
   },
   "outputs": [],
   "source": [
    "def clean_file(f, rawp = _Raw, cleanp = _Clean):\n",
    "    df = pd.read_table(join(rawp, f), encoding=\"utf-16\")\n",
    "    df = df.pivot_table(values=\"VarValue\", columns='VarName', index=\"TimeString\")\n",
    "    df = df[[c for c in df.columns if c.startswith('Sensor')]]\n",
    "    df.to_csv(join(cleanp, f.split('.')[0] + '.csv'))"
   ]
  },
  {
   "cell_type": "code",
   "execution_count": 78,
   "metadata": {
    "collapsed": false
   },
   "outputs": [],
   "source": [
    "for f in listdir(_Raw):\n",
    "    if f.split('.')[0] not in [x.split('.')[0] for x in listdir(_Clean)]:\n",
    "        clean_file(f)"
   ]
  },
  {
   "cell_type": "code",
   "execution_count": null,
   "metadata": {
    "collapsed": true
   },
   "outputs": [],
   "source": []
  }
 ],
 "metadata": {
  "kernelspec": {
   "display_name": "Python 3",
   "language": "python",
   "name": "python3"
  },
  "language_info": {
   "codemirror_mode": {
    "name": "ipython",
    "version": 3
   },
   "file_extension": ".py",
   "mimetype": "text/x-python",
   "name": "python",
   "nbconvert_exporter": "python",
   "pygments_lexer": "ipython3",
   "version": "3.5.1"
  }
 },
 "nbformat": 4,
 "nbformat_minor": 0
}
