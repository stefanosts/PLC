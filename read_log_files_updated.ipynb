{
 "cells": [
  {
   "cell_type": "markdown",
   "metadata": {},
   "source": [
    "# Introduction\n",
    "\n",
    "Below various steps of data processing are implemented. \n",
    "The starting point is the excel outputs of the tool that has already been developed in Matlab."
   ]
  },
  {
   "cell_type": "markdown",
   "metadata": {},
   "source": [
    "### Importing Required Libraries"
   ]
  },
  {
   "cell_type": "code",
   "execution_count": 34,
   "metadata": {},
   "outputs": [],
   "source": [
    "import numpy as np, pandas as pd\n",
    "from os import listdir\n",
    "from os.path import join\n",
    "import matplotlib, datetime\n",
    "import matplotlib.pyplot as plt\n",
    "\n",
    "plt.style.use('ggplot')\n",
    "%matplotlib inline\n",
    "\n",
    "from ipywidgets import widgets, interact, interact_manual, interactive, Layout\n",
    "import ipywidgets as widgets\n",
    "from tkinter import *\n",
    "from tkinter.filedialog import askopenfilename\n",
    "import xlrd\n",
    "import cufflinks as cf, plotly.plotly as py"
   ]
  },
  {
   "cell_type": "markdown",
   "metadata": {
    "collapsed": true
   },
   "source": [
    "### Inputs File Selection\n",
    "\n",
    "_Reminder: Pls select the output from the .m executable. Note: Check for open windows!!_"
   ]
  },
  {
   "cell_type": "code",
   "execution_count": 2,
   "metadata": {},
   "outputs": [],
   "source": [
    "# Get file name\n",
    "Tk().withdraw()\n",
    "filename = askopenfilename()\n",
    "\n",
    "# Read file\n",
    "Df = pd.read_excel(filename)"
   ]
  },
  {
   "cell_type": "code",
   "execution_count": 5,
   "metadata": {},
   "outputs": [],
   "source": [
    "df = Df.copy()"
   ]
  },
  {
   "cell_type": "markdown",
   "metadata": {},
   "source": [
    "# Data Processing"
   ]
  },
  {
   "cell_type": "markdown",
   "metadata": {},
   "source": [
    "### Remove Un-used Columns"
   ]
  },
  {
   "cell_type": "markdown",
   "metadata": {},
   "source": [
    "Please select string contained in columns to be removed."
   ]
  },
  {
   "cell_type": "code",
   "execution_count": 6,
   "metadata": {},
   "outputs": [
    {
     "data": {
      "application/vnd.jupyter.widget-view+json": {
       "model_id": "f78c76e85a3a49bab13c6ae531adb295",
       "version_major": 2,
       "version_minor": 0
      },
      "text/plain": [
       "interactive(children=(Text(value='write text, e.g. off', description='String'), Output()), _dom_classes=('widg…"
      ]
     },
     "metadata": {},
     "output_type": "display_data"
    }
   ],
   "source": [
    "text = widgets.Text()\n",
    "\n",
    "@interact\n",
    "def select_text(String='write text, e.g. off'):\n",
    "    text.value = str(String)"
   ]
  },
  {
   "cell_type": "code",
   "execution_count": 7,
   "metadata": {},
   "outputs": [],
   "source": [
    "# Drop columns including string\n",
    "s = text.value\n",
    "df = df.loc[:,~df.columns.str.contains(s, case=False)]"
   ]
  },
  {
   "cell_type": "code",
   "execution_count": 8,
   "metadata": {},
   "outputs": [],
   "source": [
    "# Drop columns including \".\" --> Additional Time Columns\n",
    "df = df.loc[:,~df.columns.str.contains('.', regex=False)]"
   ]
  },
  {
   "cell_type": "code",
   "execution_count": 9,
   "metadata": {},
   "outputs": [],
   "source": [
    "# Format time & drop un-used time columns\n",
    "df['Time'] = df['Time *10^6'] * 10**(-6)\n",
    "def read_date(date):\n",
    "    return xlrd.xldate.xldate_as_datetime(date, 0)\n",
    "df['Time'] = pd.to_datetime(df['Time'].apply(read_date), errors='coerce')\n",
    "\n",
    "df['datetime'] = pd.to_datetime(df['Time'])\n",
    "df = df.set_index('datetime')\n",
    "df.drop(['Time *10^6'], axis=1, inplace=True)\n",
    "\n",
    "df['day'], df['time'] = df.Time.dt.date, df.Time.dt.time\n",
    "df.drop(['Time'], axis=1, inplace=True)"
   ]
  },
  {
   "cell_type": "code",
   "execution_count": 10,
   "metadata": {},
   "outputs": [],
   "source": [
    "df.time = df.time.apply(lambda x: x.replace(microsecond=0))"
   ]
  },
  {
   "cell_type": "code",
   "execution_count": 11,
   "metadata": {},
   "outputs": [],
   "source": [
    "D = df.copy()"
   ]
  },
  {
   "cell_type": "code",
   "execution_count": null,
   "metadata": {},
   "outputs": [],
   "source": []
  },
  {
   "cell_type": "markdown",
   "metadata": {},
   "source": [
    "### Remove Data from Other Days"
   ]
  },
  {
   "cell_type": "markdown",
   "metadata": {},
   "source": [
    "Print available dates & ask user to select one."
   ]
  },
  {
   "cell_type": "code",
   "execution_count": 12,
   "metadata": {},
   "outputs": [
    {
     "data": {
      "application/vnd.jupyter.widget-view+json": {
       "model_id": "cea539cbf13847d7b0f3d106e1cbfd4b",
       "version_major": 2,
       "version_minor": 0
      },
      "text/plain": [
       "RadioButtons(description='Select date:', options=(datetime.date(2019, 6, 20), datetime.date(2019, 6, 21), date…"
      ]
     },
     "metadata": {},
     "output_type": "display_data"
    }
   ],
   "source": [
    "date = widgets.RadioButtons(\n",
    "            options=list(D['day'].unique()),\n",
    "            description='Select date:')\n",
    "display(date)"
   ]
  },
  {
   "cell_type": "code",
   "execution_count": 13,
   "metadata": {},
   "outputs": [],
   "source": [
    "# Drop raws including other dates\n",
    "d = date.value\n",
    "D = D[D['day'] == d]"
   ]
  },
  {
   "cell_type": "code",
   "execution_count": 14,
   "metadata": {},
   "outputs": [],
   "source": [
    "ddd = D.copy()"
   ]
  },
  {
   "cell_type": "code",
   "execution_count": null,
   "metadata": {},
   "outputs": [],
   "source": []
  },
  {
   "cell_type": "markdown",
   "metadata": {},
   "source": [
    "### Clean Outliers"
   ]
  },
  {
   "cell_type": "code",
   "execution_count": 15,
   "metadata": {},
   "outputs": [],
   "source": [
    "### Clean Outliers\n",
    "#\n",
    "def ident_outliers(D, c):\n",
    "    m = D[c].mean(); s = D[c].std()\n",
    "    return np.abs(D[c] - m) / s > 3\n",
    "\n",
    "def clean_outliers(D, c):\n",
    "    D.iloc[ident_outliers(D, c), c] = np.nan\n",
    "    return D[c]"
   ]
  },
  {
   "cell_type": "code",
   "execution_count": 16,
   "metadata": {},
   "outputs": [],
   "source": [
    "for c in ddd.columns:\n",
    "    try:\n",
    "        clean_outliers(ddd, c)\n",
    "    except:\n",
    "        pass"
   ]
  },
  {
   "cell_type": "code",
   "execution_count": null,
   "metadata": {},
   "outputs": [],
   "source": []
  },
  {
   "cell_type": "markdown",
   "metadata": {},
   "source": [
    "### Add Air Flow & Inverter Data"
   ]
  },
  {
   "cell_type": "markdown",
   "metadata": {},
   "source": [
    "Air Flow Data."
   ]
  },
  {
   "cell_type": "markdown",
   "metadata": {},
   "source": [
    "Scecify number of entries / changes in LPM."
   ]
  },
  {
   "cell_type": "code",
   "execution_count": 17,
   "metadata": {},
   "outputs": [
    {
     "data": {
      "application/vnd.jupyter.widget-view+json": {
       "model_id": "7b089bd1b405436aa2c20cec54a3c052",
       "version_major": 2,
       "version_minor": 0
      },
      "text/plain": [
       "IntText(value=0, description='Entries:')"
      ]
     },
     "metadata": {},
     "output_type": "display_data"
    }
   ],
   "source": [
    "e = widgets.IntText(description='Entries:')\n",
    "display(e)"
   ]
  },
  {
   "cell_type": "markdown",
   "metadata": {},
   "source": [
    "Specify starting LPM."
   ]
  },
  {
   "cell_type": "code",
   "execution_count": 18,
   "metadata": {},
   "outputs": [
    {
     "data": {
      "application/vnd.jupyter.widget-view+json": {
       "model_id": "337c328c447e45329ccb2215fbc6c595",
       "version_major": 2,
       "version_minor": 0
      },
      "text/plain": [
       "BoundedFloatText(value=750.0, description='Starting LPM:', max=1000.0, step=10.0)"
      ]
     },
     "metadata": {},
     "output_type": "display_data"
    }
   ],
   "source": [
    "starting_lpm = widgets.BoundedFloatText(value=750.0, min=0, max=1000.0, step=10.0,\n",
    "                                      description='Starting LPM:')\n",
    "display(starting_lpm)"
   ]
  },
  {
   "cell_type": "code",
   "execution_count": 19,
   "metadata": {},
   "outputs": [
    {
     "data": {
      "application/vnd.jupyter.widget-view+json": {
       "model_id": "d83cc7b7925543ccbd7fd8501b245785",
       "version_major": 2,
       "version_minor": 0
      },
      "text/plain": [
       "HBox(children=(Text(value='00:00:00', description='Time:'), FloatText(value=750.0, description='LPM:'), Toggle…"
      ]
     },
     "metadata": {},
     "output_type": "display_data"
    },
    {
     "data": {
      "application/vnd.jupyter.widget-view+json": {
       "model_id": "d179d60b3dcc4a2698b5bcac8b93538d",
       "version_major": 2,
       "version_minor": 0
      },
      "text/plain": [
       "Output()"
      ]
     },
     "metadata": {},
     "output_type": "display_data"
    }
   ],
   "source": [
    "dc = {}\n",
    "def f(t, v, n):\n",
    "    if n:\n",
    "        dc[t] = v\n",
    "\n",
    "for i in range(e.value):\n",
    "\n",
    "    t = widgets.Text(value='00:00:00', description='Time:')\n",
    "    v = widgets.FloatText(value=starting_lpm.value, description='LPM:')\n",
    "    n = widgets.ToggleButton(value=False, description='Add')\n",
    "    UI = widgets.HBox([t, v, n])\n",
    "\n",
    "    out = widgets.interactive_output(f, {'t': t, 'v': v, 'n': n})\n",
    "\n",
    "    display(UI, out)"
   ]
  },
  {
   "cell_type": "code",
   "execution_count": 20,
   "metadata": {},
   "outputs": [],
   "source": [
    "ddd['aLPM'] = starting_lpm.value\n",
    "\n",
    "def f(t, v):\n",
    "    D = date.value; T = datetime.datetime.strptime(t, '%H:%M:%S').time()\n",
    "    y, mo, d, h, mi, s = D.year, D.month, D.day, T.hour, T.minute, T.second\n",
    "    \n",
    "    ddd.loc[\"%s-%s-%s %s:%s:%s\"%(y, mo, d, h, mi, s):, \"aLPM\"] = v\n",
    "\n",
    "for k, v in dc.items():\n",
    "    f(k, v)"
   ]
  },
  {
   "cell_type": "code",
   "execution_count": null,
   "metadata": {},
   "outputs": [],
   "source": [
    "    "
   ]
  },
  {
   "cell_type": "markdown",
   "metadata": {},
   "source": [
    "Inverter Data."
   ]
  },
  {
   "cell_type": "markdown",
   "metadata": {},
   "source": [
    "Scecify number of entries / changes in inverter."
   ]
  },
  {
   "cell_type": "code",
   "execution_count": 21,
   "metadata": {},
   "outputs": [
    {
     "data": {
      "application/vnd.jupyter.widget-view+json": {
       "model_id": "66f357f454404ea69a4aba405a596321",
       "version_major": 2,
       "version_minor": 0
      },
      "text/plain": [
       "IntText(value=0, description='Entries:')"
      ]
     },
     "metadata": {},
     "output_type": "display_data"
    }
   ],
   "source": [
    "ei = widgets.IntText(description='Entries:')\n",
    "display(ei)"
   ]
  },
  {
   "cell_type": "markdown",
   "metadata": {},
   "source": [
    "Specify starting value."
   ]
  },
  {
   "cell_type": "code",
   "execution_count": 22,
   "metadata": {},
   "outputs": [
    {
     "data": {
      "application/vnd.jupyter.widget-view+json": {
       "model_id": "4e07ff41434449509d1a3db6fa7eb5a4",
       "version_major": 2,
       "version_minor": 0
      },
      "text/plain": [
       "BoundedFloatText(value=37.5, description='Starting Hz:', max=50.0, step=0.5)"
      ]
     },
     "metadata": {},
     "output_type": "display_data"
    }
   ],
   "source": [
    "starting_hz = widgets.BoundedFloatText(value=37.5, min=0, max=50.0, step=.5,\n",
    "                                      description='Starting Hz:')\n",
    "display(starting_hz)"
   ]
  },
  {
   "cell_type": "code",
   "execution_count": 23,
   "metadata": {},
   "outputs": [],
   "source": [
    "dci = {}\n",
    "def f(t, v, n):\n",
    "    if n:\n",
    "        dci[t] = v\n",
    "\n",
    "for i in range(ei.value):\n",
    "\n",
    "    t = widgets.Text(value='00:00:00', description='Time:')\n",
    "    v = widgets.FloatText(value=starting_hz.value, description='Hz:')\n",
    "    n = widgets.ToggleButton(value=False, description='Add')\n",
    "    UI = widgets.HBox([t, v, n])\n",
    "\n",
    "    out = widgets.interactive_output(f, {'t': t, 'v': v, 'n': n})\n",
    "\n",
    "    display(UI, out)"
   ]
  },
  {
   "cell_type": "code",
   "execution_count": 24,
   "metadata": {},
   "outputs": [],
   "source": [
    "ddd['iHz'] = starting_hz.value\n",
    "\n",
    "def f(t, v):\n",
    "    D = date.value; T = datetime.datetime.strptime(t, '%H:%M:%S').time()\n",
    "    y, mo, d, h, mi, s = D.year, D.month, D.day, T.hour, T.minute, T.second\n",
    "    \n",
    "    ddd.loc[\"%s-%s-%s %s:%s:%s\"%(y, mo, d, h, mi, s):, \"iHz\"] = v\n",
    "\n",
    "for k, v in dci.items():\n",
    "    f(k, v)"
   ]
  },
  {
   "cell_type": "code",
   "execution_count": 25,
   "metadata": {},
   "outputs": [
    {
     "data": {
      "text/html": [
       "<div>\n",
       "<style scoped>\n",
       "    .dataframe tbody tr th:only-of-type {\n",
       "        vertical-align: middle;\n",
       "    }\n",
       "\n",
       "    .dataframe tbody tr th {\n",
       "        vertical-align: top;\n",
       "    }\n",
       "\n",
       "    .dataframe thead th {\n",
       "        text-align: right;\n",
       "    }\n",
       "</style>\n",
       "<table border=\"1\" class=\"dataframe\">\n",
       "  <thead>\n",
       "    <tr style=\"text-align: right;\">\n",
       "      <th></th>\n",
       "      <th>PDRT-06</th>\n",
       "      <th>PDRT-09A</th>\n",
       "      <th>PRT-01</th>\n",
       "      <th>PRT-16</th>\n",
       "      <th>PDRT-09B</th>\n",
       "      <th>PDRT-10</th>\n",
       "      <th>PDRT-13</th>\n",
       "      <th>TE-09A</th>\n",
       "      <th>TE-09B</th>\n",
       "      <th>TE-32</th>\n",
       "      <th>...</th>\n",
       "      <th>TE-09D</th>\n",
       "      <th>TE-09E</th>\n",
       "      <th>TE-13B</th>\n",
       "      <th>TE-14</th>\n",
       "      <th>TE-16</th>\n",
       "      <th>TE-17B</th>\n",
       "      <th>day</th>\n",
       "      <th>time</th>\n",
       "      <th>aLPM</th>\n",
       "      <th>iHz</th>\n",
       "    </tr>\n",
       "    <tr>\n",
       "      <th>datetime</th>\n",
       "      <th></th>\n",
       "      <th></th>\n",
       "      <th></th>\n",
       "      <th></th>\n",
       "      <th></th>\n",
       "      <th></th>\n",
       "      <th></th>\n",
       "      <th></th>\n",
       "      <th></th>\n",
       "      <th></th>\n",
       "      <th></th>\n",
       "      <th></th>\n",
       "      <th></th>\n",
       "      <th></th>\n",
       "      <th></th>\n",
       "      <th></th>\n",
       "      <th></th>\n",
       "      <th></th>\n",
       "      <th></th>\n",
       "      <th></th>\n",
       "      <th></th>\n",
       "    </tr>\n",
       "  </thead>\n",
       "  <tbody>\n",
       "    <tr>\n",
       "      <th>2019-06-20 10:40:57.833</th>\n",
       "      <td>2.490234</td>\n",
       "      <td>0.029839</td>\n",
       "      <td>837.442130</td>\n",
       "      <td>-9.331597</td>\n",
       "      <td>0.157335</td>\n",
       "      <td>-0.243164</td>\n",
       "      <td>88.886176</td>\n",
       "      <td>22.6</td>\n",
       "      <td>23.4</td>\n",
       "      <td>NaN</td>\n",
       "      <td>...</td>\n",
       "      <td>24.7</td>\n",
       "      <td>25.7</td>\n",
       "      <td>23.6</td>\n",
       "      <td>23.3</td>\n",
       "      <td>23.0</td>\n",
       "      <td>26.4</td>\n",
       "      <td>2019-06-20</td>\n",
       "      <td>10:40:57</td>\n",
       "      <td>750.0</td>\n",
       "      <td>37.5</td>\n",
       "    </tr>\n",
       "    <tr>\n",
       "      <th>2019-06-20 10:40:58.829</th>\n",
       "      <td>2.381727</td>\n",
       "      <td>0.032552</td>\n",
       "      <td>836.400463</td>\n",
       "      <td>-9.548611</td>\n",
       "      <td>0.165473</td>\n",
       "      <td>-0.242714</td>\n",
       "      <td>88.886176</td>\n",
       "      <td>23.0</td>\n",
       "      <td>23.4</td>\n",
       "      <td>NaN</td>\n",
       "      <td>...</td>\n",
       "      <td>24.6</td>\n",
       "      <td>25.7</td>\n",
       "      <td>23.6</td>\n",
       "      <td>23.3</td>\n",
       "      <td>23.0</td>\n",
       "      <td>26.4</td>\n",
       "      <td>2019-06-20</td>\n",
       "      <td>10:40:58</td>\n",
       "      <td>750.0</td>\n",
       "      <td>37.5</td>\n",
       "    </tr>\n",
       "    <tr>\n",
       "      <th>2019-06-20 10:40:59.828</th>\n",
       "      <td>2.362739</td>\n",
       "      <td>0.035265</td>\n",
       "      <td>835.937500</td>\n",
       "      <td>-8.680556</td>\n",
       "      <td>0.162760</td>\n",
       "      <td>-0.243164</td>\n",
       "      <td>88.886176</td>\n",
       "      <td>23.0</td>\n",
       "      <td>23.4</td>\n",
       "      <td>NaN</td>\n",
       "      <td>...</td>\n",
       "      <td>24.6</td>\n",
       "      <td>25.7</td>\n",
       "      <td>23.6</td>\n",
       "      <td>23.3</td>\n",
       "      <td>23.0</td>\n",
       "      <td>26.4</td>\n",
       "      <td>2019-06-20</td>\n",
       "      <td>10:40:59</td>\n",
       "      <td>750.0</td>\n",
       "      <td>37.5</td>\n",
       "    </tr>\n",
       "    <tr>\n",
       "      <th>2019-06-20 10:41:00.828</th>\n",
       "      <td>2.327474</td>\n",
       "      <td>0.035265</td>\n",
       "      <td>838.136574</td>\n",
       "      <td>-8.680556</td>\n",
       "      <td>0.157335</td>\n",
       "      <td>-0.245416</td>\n",
       "      <td>88.886176</td>\n",
       "      <td>23.0</td>\n",
       "      <td>23.4</td>\n",
       "      <td>NaN</td>\n",
       "      <td>...</td>\n",
       "      <td>24.6</td>\n",
       "      <td>25.7</td>\n",
       "      <td>23.5</td>\n",
       "      <td>23.3</td>\n",
       "      <td>23.0</td>\n",
       "      <td>26.4</td>\n",
       "      <td>2019-06-20</td>\n",
       "      <td>10:41:00</td>\n",
       "      <td>650.0</td>\n",
       "      <td>37.5</td>\n",
       "    </tr>\n",
       "    <tr>\n",
       "      <th>2019-06-20 10:41:01.828</th>\n",
       "      <td>2.273220</td>\n",
       "      <td>0.054253</td>\n",
       "      <td>838.078704</td>\n",
       "      <td>-8.680556</td>\n",
       "      <td>0.143772</td>\n",
       "      <td>-0.246316</td>\n",
       "      <td>88.886176</td>\n",
       "      <td>23.0</td>\n",
       "      <td>23.4</td>\n",
       "      <td>NaN</td>\n",
       "      <td>...</td>\n",
       "      <td>24.6</td>\n",
       "      <td>25.6</td>\n",
       "      <td>23.5</td>\n",
       "      <td>23.3</td>\n",
       "      <td>23.0</td>\n",
       "      <td>26.4</td>\n",
       "      <td>2019-06-20</td>\n",
       "      <td>10:41:01</td>\n",
       "      <td>650.0</td>\n",
       "      <td>37.5</td>\n",
       "    </tr>\n",
       "  </tbody>\n",
       "</table>\n",
       "<p>5 rows × 22 columns</p>\n",
       "</div>"
      ],
      "text/plain": [
       "                          PDRT-06  PDRT-09A      PRT-01    PRT-16  PDRT-09B  \\\n",
       "datetime                                                                      \n",
       "2019-06-20 10:40:57.833  2.490234  0.029839  837.442130 -9.331597  0.157335   \n",
       "2019-06-20 10:40:58.829  2.381727  0.032552  836.400463 -9.548611  0.165473   \n",
       "2019-06-20 10:40:59.828  2.362739  0.035265  835.937500 -8.680556  0.162760   \n",
       "2019-06-20 10:41:00.828  2.327474  0.035265  838.136574 -8.680556  0.157335   \n",
       "2019-06-20 10:41:01.828  2.273220  0.054253  838.078704 -8.680556  0.143772   \n",
       "\n",
       "                          PDRT-10    PDRT-13  TE-09A  TE-09B  TE-32  ...  \\\n",
       "datetime                                                             ...   \n",
       "2019-06-20 10:40:57.833 -0.243164  88.886176    22.6    23.4    NaN  ...   \n",
       "2019-06-20 10:40:58.829 -0.242714  88.886176    23.0    23.4    NaN  ...   \n",
       "2019-06-20 10:40:59.828 -0.243164  88.886176    23.0    23.4    NaN  ...   \n",
       "2019-06-20 10:41:00.828 -0.245416  88.886176    23.0    23.4    NaN  ...   \n",
       "2019-06-20 10:41:01.828 -0.246316  88.886176    23.0    23.4    NaN  ...   \n",
       "\n",
       "                         TE-09D  TE-09E  TE-13B  TE-14  TE-16  TE-17B  \\\n",
       "datetime                                                                \n",
       "2019-06-20 10:40:57.833    24.7    25.7    23.6   23.3   23.0    26.4   \n",
       "2019-06-20 10:40:58.829    24.6    25.7    23.6   23.3   23.0    26.4   \n",
       "2019-06-20 10:40:59.828    24.6    25.7    23.6   23.3   23.0    26.4   \n",
       "2019-06-20 10:41:00.828    24.6    25.7    23.5   23.3   23.0    26.4   \n",
       "2019-06-20 10:41:01.828    24.6    25.6    23.5   23.3   23.0    26.4   \n",
       "\n",
       "                                day      time   aLPM   iHz  \n",
       "datetime                                                    \n",
       "2019-06-20 10:40:57.833  2019-06-20  10:40:57  750.0  37.5  \n",
       "2019-06-20 10:40:58.829  2019-06-20  10:40:58  750.0  37.5  \n",
       "2019-06-20 10:40:59.828  2019-06-20  10:40:59  750.0  37.5  \n",
       "2019-06-20 10:41:00.828  2019-06-20  10:41:00  650.0  37.5  \n",
       "2019-06-20 10:41:01.828  2019-06-20  10:41:01  650.0  37.5  \n",
       "\n",
       "[5 rows x 22 columns]"
      ]
     },
     "execution_count": 25,
     "metadata": {},
     "output_type": "execute_result"
    }
   ],
   "source": [
    "ddd.head()"
   ]
  },
  {
   "cell_type": "code",
   "execution_count": null,
   "metadata": {},
   "outputs": [],
   "source": []
  },
  {
   "cell_type": "markdown",
   "metadata": {},
   "source": [
    "# Plotting & Visualizing"
   ]
  },
  {
   "cell_type": "code",
   "execution_count": 28,
   "metadata": {},
   "outputs": [],
   "source": [
    "c = widgets.SelectMultiple(options=list(ddd.columns), value=[list(ddd.columns)[0], list(ddd.columns)[1]],\n",
    "        rows=6, description='Columns:', layout=Layout(width='80%'))\n",
    "t = widgets.SelectionRangeSlider(options=ddd['time'], index=(0, len(ddd['time'])-1), description='X-Axis:', \n",
    "        layout=Layout(width='80%', height='80px'))\n",
    "\n",
    "UI = widgets.VBox([c, t])"
   ]
  },
  {
   "cell_type": "code",
   "execution_count": 29,
   "metadata": {},
   "outputs": [
    {
     "data": {
      "application/vnd.jupyter.widget-view+json": {
       "model_id": "556664a2949649869a13d35d3fee83dd",
       "version_major": 2,
       "version_minor": 0
      },
      "text/plain": [
       "VBox(children=(SelectMultiple(description='Columns:', index=(0, 1), layout=Layout(width='80%'), options=('PDRT…"
      ]
     },
     "metadata": {},
     "output_type": "display_data"
    },
    {
     "data": {
      "application/vnd.jupyter.widget-view+json": {
       "model_id": "129524412ef0406286a8b68189b501c3",
       "version_major": 2,
       "version_minor": 0
      },
      "text/plain": [
       "Output()"
      ]
     },
     "metadata": {},
     "output_type": "display_data"
    }
   ],
   "source": [
    "def f(cols, t):\n",
    "    ts = t[0]; te = t[1]\n",
    "    ax = ddd.plot(x='time', y=list(cols), style=\".\", figsize=(14,6))\n",
    "    ax.set_xlim(ts, te)\n",
    "    ax.plot()\n",
    "    \n",
    "out = widgets.interactive_output(f, {'cols': c, 't': t})\n",
    "\n",
    "display(UI, out)"
   ]
  },
  {
   "cell_type": "code",
   "execution_count": null,
   "metadata": {},
   "outputs": [],
   "source": []
  },
  {
   "cell_type": "markdown",
   "metadata": {},
   "source": [
    "# Save File"
   ]
  },
  {
   "cell_type": "markdown",
   "metadata": {},
   "source": [
    "Specify directory."
   ]
  },
  {
   "cell_type": "code",
   "execution_count": 56,
   "metadata": {},
   "outputs": [],
   "source": [
    "dir_name = filedialog.askdirectory()"
   ]
  },
  {
   "cell_type": "markdown",
   "metadata": {},
   "source": [
    "Specify file name."
   ]
  },
  {
   "cell_type": "code",
   "execution_count": 61,
   "metadata": {},
   "outputs": [
    {
     "data": {
      "application/vnd.jupyter.widget-view+json": {
       "model_id": "6b1bb88dc95544d88f62b2edbd8fcae8",
       "version_major": 2,
       "version_minor": 0
      },
      "text/plain": [
       "Text(value='2019-6-20 out.xlsx', description='File Name:')"
      ]
     },
     "metadata": {},
     "output_type": "display_data"
    }
   ],
   "source": [
    "default_v = '%s-%s-%s out.xlsx'%(date.value.year, date.value.month, date.value.day)\n",
    "f_name = widgets.Text(value=default_v, description='File Name:')\n",
    "display(f_name)"
   ]
  },
  {
   "cell_type": "code",
   "execution_count": 74,
   "metadata": {},
   "outputs": [
    {
     "data": {
      "application/vnd.jupyter.widget-view+json": {
       "model_id": "db7d1c18ded84dfa87d1f9b767180c24",
       "version_major": 2,
       "version_minor": 0
      },
      "text/plain": [
       "Button(description='Save', style=ButtonStyle())"
      ]
     },
     "metadata": {},
     "output_type": "display_data"
    },
    {
     "data": {
      "application/vnd.jupyter.widget-view+json": {
       "model_id": "222e1d44d28e44209b34f85f87489309",
       "version_major": 2,
       "version_minor": 0
      },
      "text/plain": [
       "Output()"
      ]
     },
     "metadata": {},
     "output_type": "display_data"
    }
   ],
   "source": [
    "button = widgets.Button(description=\"Save\")\n",
    "output = widgets.Output()\n",
    "\n",
    "display(button, output)\n",
    "\n",
    "def on_button_clicked(b):\n",
    "    with output:\n",
    "        ddd.to_excel(join(dir_name, f_name.value))\n",
    "        print(\"File saved.\")\n",
    "\n",
    "button.on_click(on_button_clicked)"
   ]
  },
  {
   "cell_type": "code",
   "execution_count": null,
   "metadata": {},
   "outputs": [],
   "source": []
  }
 ],
 "metadata": {
  "kernelspec": {
   "display_name": "Python 3",
   "language": "python",
   "name": "python3"
  },
  "language_info": {
   "codemirror_mode": {
    "name": "ipython",
    "version": 3
   },
   "file_extension": ".py",
   "mimetype": "text/x-python",
   "name": "python",
   "nbconvert_exporter": "python",
   "pygments_lexer": "ipython3",
   "version": "3.7.2"
  }
 },
 "nbformat": 4,
 "nbformat_minor": 1
}
