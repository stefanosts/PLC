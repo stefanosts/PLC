{
 "cells": [
  {
   "cell_type": "markdown",
   "metadata": {},
   "source": [
    "# Introduction\n",
    "\n",
    "Below various steps of data processing are implemented. \n",
    "The starting point is the excel outputs of the tool that has already been developed in Matlab."
   ]
  },
  {
   "cell_type": "markdown",
   "metadata": {},
   "source": [
    "### Importing Required Libraries"
   ]
  },
  {
   "cell_type": "code",
   "execution_count": 5,
   "metadata": {},
   "outputs": [],
   "source": [
    "import numpy as np, pandas as pd\n",
    "from os import listdir\n",
    "from os.path import join\n",
    "import os\n",
    "import matplotlib, datetime\n",
    "import matplotlib.pyplot as plt\n",
    "\n",
    "plt.style.use('ggplot')\n",
    "%matplotlib inline\n",
    "\n",
    "from ipywidgets import widgets, interact, interact_manual, interactive, Layout\n",
    "import ipywidgets as widgets\n",
    "import xlrd\n",
    "import fileupload\n",
    "\n",
    "# from tkinter import *\n",
    "# from tkinter.filedialog import askopenfilename"
   ]
  },
  {
   "cell_type": "markdown",
   "metadata": {
    "collapsed": true
   },
   "source": [
    "### Inputs File Selection\n",
    "\n",
    "_Reminder: Pls select the output from the .m executable. Note: Check for open windows!!_"
   ]
  },
  {
   "cell_type": "code",
   "execution_count": 10,
   "metadata": {},
   "outputs": [],
   "source": [
    "filename = r'D:\\Work\\PLC\\PLC Data\\Playing\\Original output_2019-06-24.xlsx'"
   ]
  },
  {
   "cell_type": "code",
   "execution_count": 11,
   "metadata": {},
   "outputs": [],
   "source": [
    "# # Get file name\n",
    "# Tk().withdraw()\n",
    "# filename = askopenfilename()\n",
    "\n",
    "# # Read file\n",
    "# Df = pd.read_excel(filename)"
   ]
  },
  {
   "cell_type": "code",
   "execution_count": null,
   "metadata": {},
   "outputs": [],
   "source": [
    "Df = pd.read_excel(filename)"
   ]
  },
  {
   "cell_type": "code",
   "execution_count": null,
   "metadata": {},
   "outputs": [],
   "source": [
    "df = Df.copy()"
   ]
  },
  {
   "cell_type": "markdown",
   "metadata": {},
   "source": [
    "# Data Processing"
   ]
  },
  {
   "cell_type": "markdown",
   "metadata": {},
   "source": [
    "### Remove Un-used Columns"
   ]
  },
  {
   "cell_type": "markdown",
   "metadata": {},
   "source": [
    "Please select string contained in columns to be removed."
   ]
  },
  {
   "cell_type": "code",
   "execution_count": null,
   "metadata": {},
   "outputs": [],
   "source": [
    "text = widgets.Text()\n",
    "\n",
    "@interact\n",
    "def select_text(String='write text, e.g. off'):\n",
    "    text.value = str(String)"
   ]
  },
  {
   "cell_type": "code",
   "execution_count": null,
   "metadata": {},
   "outputs": [],
   "source": [
    "# Drop columns including string\n",
    "s = text.value\n",
    "df = df.loc[:,~df.columns.str.contains(s, case=False)]"
   ]
  },
  {
   "cell_type": "code",
   "execution_count": null,
   "metadata": {},
   "outputs": [],
   "source": [
    "# Drop columns including \".\" --> Additional Time Columns\n",
    "df = df.loc[:,~df.columns.str.contains('.', regex=False)]"
   ]
  },
  {
   "cell_type": "code",
   "execution_count": null,
   "metadata": {},
   "outputs": [],
   "source": [
    "# Format time & drop un-used time columns\n",
    "df['Time'] = df['Time *10^6'] * 10**(-6)\n",
    "def read_date(date):\n",
    "    return xlrd.xldate.xldate_as_datetime(date, 0)\n",
    "df['Time'] = pd.to_datetime(df['Time'].apply(read_date), errors='coerce')\n",
    "\n",
    "df['datetime'] = pd.to_datetime(df['Time'])\n",
    "df = df.set_index('datetime')\n",
    "df.drop(['Time *10^6'], axis=1, inplace=True)\n",
    "\n",
    "df['day'], df['time'] = df.Time.dt.date, df.Time.dt.time\n",
    "df.drop(['Time'], axis=1, inplace=True)"
   ]
  },
  {
   "cell_type": "code",
   "execution_count": null,
   "metadata": {},
   "outputs": [],
   "source": [
    "df.time = df.time.apply(lambda x: x.replace(microsecond=0))"
   ]
  },
  {
   "cell_type": "code",
   "execution_count": null,
   "metadata": {},
   "outputs": [],
   "source": [
    "D = df.copy()"
   ]
  },
  {
   "cell_type": "code",
   "execution_count": null,
   "metadata": {},
   "outputs": [],
   "source": []
  },
  {
   "cell_type": "markdown",
   "metadata": {},
   "source": [
    "### Remove Data from Other Days"
   ]
  },
  {
   "cell_type": "markdown",
   "metadata": {},
   "source": [
    "Print available dates & ask user to select one."
   ]
  },
  {
   "cell_type": "code",
   "execution_count": null,
   "metadata": {},
   "outputs": [],
   "source": [
    "date = widgets.RadioButtons(\n",
    "            options=list(D['day'].unique()),\n",
    "            description='Select date:')\n",
    "display(date)"
   ]
  },
  {
   "cell_type": "code",
   "execution_count": null,
   "metadata": {},
   "outputs": [],
   "source": [
    "# Drop raws including other dates\n",
    "d = date.value\n",
    "D = D[D['day'] == d]"
   ]
  },
  {
   "cell_type": "code",
   "execution_count": null,
   "metadata": {},
   "outputs": [],
   "source": [
    "ddd = D.copy()"
   ]
  },
  {
   "cell_type": "code",
   "execution_count": null,
   "metadata": {},
   "outputs": [],
   "source": []
  },
  {
   "cell_type": "markdown",
   "metadata": {},
   "source": [
    "### Clean Outliers"
   ]
  },
  {
   "cell_type": "code",
   "execution_count": null,
   "metadata": {},
   "outputs": [],
   "source": [
    "### Clean Outliers\n",
    "#\n",
    "def ident_outliers(D, c):\n",
    "    m = D[c].mean(); s = D[c].std()\n",
    "    return np.abs(D[c] - m) / s > 3\n",
    "\n",
    "def clean_outliers(D, c):\n",
    "    D.iloc[ident_outliers(D, c), c] = np.nan\n",
    "    return D[c]"
   ]
  },
  {
   "cell_type": "code",
   "execution_count": null,
   "metadata": {},
   "outputs": [],
   "source": [
    "for c in ddd.columns:\n",
    "    try:\n",
    "        clean_outliers(ddd, c)\n",
    "    except:\n",
    "        pass"
   ]
  },
  {
   "cell_type": "code",
   "execution_count": null,
   "metadata": {},
   "outputs": [],
   "source": []
  },
  {
   "cell_type": "markdown",
   "metadata": {},
   "source": [
    "### Add Air Flow & Inverter Data"
   ]
  },
  {
   "cell_type": "markdown",
   "metadata": {},
   "source": [
    "Air Flow Data."
   ]
  },
  {
   "cell_type": "markdown",
   "metadata": {},
   "source": [
    "Scecify number of entries / changes in LPM."
   ]
  },
  {
   "cell_type": "code",
   "execution_count": null,
   "metadata": {},
   "outputs": [],
   "source": [
    "e = widgets.IntText(description='Entries:')\n",
    "display(e)"
   ]
  },
  {
   "cell_type": "markdown",
   "metadata": {},
   "source": [
    "Specify starting LPM."
   ]
  },
  {
   "cell_type": "code",
   "execution_count": null,
   "metadata": {},
   "outputs": [],
   "source": [
    "starting_lpm = widgets.BoundedFloatText(value=750.0, min=0, max=1000.0, step=10.0,\n",
    "                                      description='Starting LPM:')\n",
    "display(starting_lpm)"
   ]
  },
  {
   "cell_type": "code",
   "execution_count": null,
   "metadata": {},
   "outputs": [],
   "source": [
    "dc = {}\n",
    "def f(t, v, n):\n",
    "    if n:\n",
    "        dc[t] = v\n",
    "\n",
    "for i in range(e.value):\n",
    "\n",
    "    t = widgets.Text(value='00:00:00', description='Time:')\n",
    "    v = widgets.FloatText(value=starting_lpm.value, description='LPM:')\n",
    "    n = widgets.ToggleButton(value=False, description='Add')\n",
    "    UI = widgets.HBox([t, v, n])\n",
    "\n",
    "    out = widgets.interactive_output(f, {'t': t, 'v': v, 'n': n})\n",
    "\n",
    "    display(UI, out)"
   ]
  },
  {
   "cell_type": "code",
   "execution_count": null,
   "metadata": {},
   "outputs": [],
   "source": [
    "ddd['aLPM'] = starting_lpm.value\n",
    "\n",
    "def f(t, v):\n",
    "    D = date.value; T = datetime.datetime.strptime(t, '%H:%M:%S').time()\n",
    "    y, mo, d, h, mi, s = D.year, D.month, D.day, T.hour, T.minute, T.second\n",
    "    \n",
    "    ddd.loc[\"%s-%s-%s %s:%s:%s\"%(y, mo, d, h, mi, s):, \"aLPM\"] = v\n",
    "\n",
    "for k, v in dc.items():\n",
    "    f(k, v)"
   ]
  },
  {
   "cell_type": "code",
   "execution_count": null,
   "metadata": {},
   "outputs": [],
   "source": [
    "    "
   ]
  },
  {
   "cell_type": "markdown",
   "metadata": {},
   "source": [
    "Inverter Data."
   ]
  },
  {
   "cell_type": "markdown",
   "metadata": {},
   "source": [
    "Scecify number of entries / changes in inverter."
   ]
  },
  {
   "cell_type": "code",
   "execution_count": null,
   "metadata": {},
   "outputs": [],
   "source": [
    "ei = widgets.IntText(description='Entries:')\n",
    "display(ei)"
   ]
  },
  {
   "cell_type": "markdown",
   "metadata": {},
   "source": [
    "Specify starting value."
   ]
  },
  {
   "cell_type": "code",
   "execution_count": null,
   "metadata": {},
   "outputs": [],
   "source": [
    "starting_hz = widgets.BoundedFloatText(value=37.5, min=0, max=50.0, step=.5,\n",
    "                                      description='Starting Hz:')\n",
    "display(starting_hz)"
   ]
  },
  {
   "cell_type": "code",
   "execution_count": null,
   "metadata": {},
   "outputs": [],
   "source": [
    "dci = {}\n",
    "def f(t, v, n):\n",
    "    if n:\n",
    "        dci[t] = v\n",
    "\n",
    "for i in range(ei.value):\n",
    "\n",
    "    t = widgets.Text(value='00:00:00', description='Time:')\n",
    "    v = widgets.FloatText(value=starting_hz.value, description='Hz:')\n",
    "    n = widgets.ToggleButton(value=False, description='Add')\n",
    "    UI = widgets.HBox([t, v, n])\n",
    "\n",
    "    out = widgets.interactive_output(f, {'t': t, 'v': v, 'n': n})\n",
    "\n",
    "    display(UI, out)"
   ]
  },
  {
   "cell_type": "code",
   "execution_count": null,
   "metadata": {},
   "outputs": [],
   "source": [
    "ddd['iHz'] = starting_hz.value\n",
    "\n",
    "def f(t, v):\n",
    "    D = date.value; T = datetime.datetime.strptime(t, '%H:%M:%S').time()\n",
    "    y, mo, d, h, mi, s = D.year, D.month, D.day, T.hour, T.minute, T.second\n",
    "    \n",
    "    ddd.loc[\"%s-%s-%s %s:%s:%s\"%(y, mo, d, h, mi, s):, \"iHz\"] = v\n",
    "\n",
    "for k, v in dci.items():\n",
    "    f(k, v)"
   ]
  },
  {
   "cell_type": "code",
   "execution_count": null,
   "metadata": {},
   "outputs": [],
   "source": [
    "ddd.head()"
   ]
  },
  {
   "cell_type": "code",
   "execution_count": null,
   "metadata": {},
   "outputs": [],
   "source": []
  },
  {
   "cell_type": "markdown",
   "metadata": {},
   "source": [
    "# Plotting & Visualizing"
   ]
  },
  {
   "cell_type": "code",
   "execution_count": null,
   "metadata": {},
   "outputs": [],
   "source": [
    "c = widgets.SelectMultiple(options=list(ddd.columns), value=[list(ddd.columns)[0], list(ddd.columns)[1]],\n",
    "        rows=6, description='Columns:', layout=Layout(width='80%'))\n",
    "t = widgets.SelectionRangeSlider(options=ddd['time'], index=(0, len(ddd['time'])-1), description='X-Axis:', \n",
    "        layout=Layout(width='80%', height='80px'))\n",
    "\n",
    "UI = widgets.VBox([c, t])"
   ]
  },
  {
   "cell_type": "code",
   "execution_count": null,
   "metadata": {},
   "outputs": [],
   "source": [
    "def f(cols, t):\n",
    "    ts = t[0]; te = t[1]\n",
    "    ax = ddd.plot(x='time', y=list(cols), style=\".\", figsize=(14,6))\n",
    "    ax.set_xlim(ts, te)\n",
    "    ax.plot()\n",
    "    \n",
    "out = widgets.interactive_output(f, {'cols': c, 't': t})\n",
    "\n",
    "display(UI, out)"
   ]
  },
  {
   "cell_type": "code",
   "execution_count": null,
   "metadata": {},
   "outputs": [],
   "source": []
  },
  {
   "cell_type": "markdown",
   "metadata": {},
   "source": [
    "# Save File"
   ]
  },
  {
   "cell_type": "markdown",
   "metadata": {},
   "source": [
    "Specify directory."
   ]
  },
  {
   "cell_type": "code",
   "execution_count": null,
   "metadata": {},
   "outputs": [],
   "source": [
    "dir_name = filedialog.askdirectory()"
   ]
  },
  {
   "cell_type": "markdown",
   "metadata": {},
   "source": [
    "Specify file name."
   ]
  },
  {
   "cell_type": "code",
   "execution_count": null,
   "metadata": {},
   "outputs": [],
   "source": [
    "default_v = '%s-%s-%s out.xlsx'%(date.value.year, date.value.month, date.value.day)\n",
    "f_name = widgets.Text(value=default_v, description='File Name:')\n",
    "display(f_name)"
   ]
  },
  {
   "cell_type": "code",
   "execution_count": null,
   "metadata": {},
   "outputs": [],
   "source": [
    "button = widgets.Button(description=\"Save\")\n",
    "output = widgets.Output()\n",
    "\n",
    "display(button, output)\n",
    "\n",
    "def on_button_clicked(b):\n",
    "    with output:\n",
    "        ddd.to_excel(join(dir_name, f_name.value))\n",
    "        print(\"File saved.\")\n",
    "\n",
    "button.on_click(on_button_clicked)"
   ]
  },
  {
   "cell_type": "code",
   "execution_count": null,
   "metadata": {},
   "outputs": [],
   "source": []
  }
 ],
 "metadata": {
  "kernelspec": {
   "display_name": "Python 3",
   "language": "python",
   "name": "python3"
  },
  "language_info": {
   "codemirror_mode": {
    "name": "ipython",
    "version": 3
   },
   "file_extension": ".py",
   "mimetype": "text/x-python",
   "name": "python",
   "nbconvert_exporter": "python",
   "pygments_lexer": "ipython3",
   "version": "3.7.2"
  }
 },
 "nbformat": 4,
 "nbformat_minor": 1
}
